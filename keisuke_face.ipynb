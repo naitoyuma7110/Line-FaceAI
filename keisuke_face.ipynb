{
 "cells": [
  {
   "cell_type": "code",
   "execution_count": 49,
   "id": "f1e853c2-f4e0-46cc-aee0-150e269df150",
   "metadata": {},
   "outputs": [],
   "source": [
    "from azure.cognitiveservices.vision.face import FaceClient\n",
    "from msrest.authentication import CognitiveServicesCredentials"
   ]
  },
  {
   "cell_type": "code",
   "execution_count": 50,
   "id": "bd4a500d-661f-4061-ba06-4f08cb02d92e",
   "metadata": {},
   "outputs": [],
   "source": [
    "from dotenv import load_dotenv\n",
    "import os\n",
    "\n",
    "load_dotenv()  # .envファイルを読み込む\n",
    "\n",
    "KEY = os.environ.get(\"KEY\")\n",
    "ENDPOINT = os.environ.get(\"ENDPOINT\")\n",
    "# FaceAPIクライアントのインスタンス作成\n",
    "face_client = FaceClient(ENDPOINT, CognitiveServicesCredentials(KEY))"
   ]
  },
  {
   "cell_type": "code",
   "execution_count": 51,
   "id": "db98b0d3-4e28-40b7-a9ae-46540cb2af78",
   "metadata": {},
   "outputs": [],
   "source": [
    "# Person GroupのIDを指定\n",
    "person_group_id = 'keisuke'"
   ]
  },
  {
   "cell_type": "code",
   "execution_count": null,
   "id": "74013cd6-8b84-4045-8a73-dc268ec99713",
   "metadata": {},
   "outputs": [],
   "source": [
    "# keisukeというグループを作成する\n",
    "# face_client.person_group.create(\n",
    "#     person_group_id,\n",
    "#     name = \"keisuke group\"\n",
    "# )\n",
    "\n",
    "# グループ削除\n",
    "# face_client.person_group.delete(person_group_id)"
   ]
  },
  {
   "cell_type": "code",
   "execution_count": 53,
   "id": "1c81c1a3-595e-4aca-ad65-983601bf60e8",
   "metadata": {},
   "outputs": [
    {
     "name": "stdout",
     "output_type": "stream",
     "text": [
      "{'additional_properties': {}, 'name': 'keisuke group', 'user_data': None, 'recognition_model': None, 'person_group_id': 'keisuke'}\n"
     ]
    }
   ],
   "source": [
    "# person groupを確認\n",
    "group_keisuke = face_client.person_group.get(person_group_id)\n",
    "print(group_keisuke)\n"
   ]
  },
  {
   "cell_type": "code",
   "execution_count": null,
   "id": "29159132-8ceb-4ade-aaf4-e31d0a273f7e",
   "metadata": {},
   "outputs": [],
   "source": [
    "# TashiroKeisukeの名前を登録\n",
    "keisuke_name = 'Tashiro Keisuke'\n"
   ]
  },
  {
   "cell_type": "code",
   "execution_count": null,
   "id": "7698dc64-3364-430f-931d-99a4644fbaa5",
   "metadata": {},
   "outputs": [],
   "source": [
    "# keisuke_groupにkeisukeという名前のPersonを登録\n",
    "# keisuke = face_client.person_group_person.create(\n",
    "#     person_group_id = group_keisuke.person_group_id, # PersonGroupのIDを指定\n",
    "#     name = keisuke_name # 登録するPersonの名前を指定\n",
    "# )\n",
    "# print(keisuke)"
   ]
  },
  {
   "cell_type": "code",
   "execution_count": null,
   "id": "01d552b1-8c09-44b1-b412-07a1c2cc30d3",
   "metadata": {},
   "outputs": [],
   "source": [
    "# 画像送信でケイスケ写真をPersonに紐づける\n",
    "with open('img/IMG_2857.JPG', 'rb') as image:\n",
    "    keisuke_face_1 = face_client.person_group_person.add_face_from_stream(\n",
    "        person_group_id = group_keisuke.person_group_id,\n",
    "        person_id = keisuke.person_id,\n",
    "        image = image\n",
    "    )\n",
    "with open('img/IMG_2859.JPG', 'rb') as image:\n",
    "    keisuke_face_2 = face_client.person_group_person.add_face_from_stream(\n",
    "        person_group_id = group_keisuke.person_group_id,\n",
    "        person_id = keisuke.person_id,\n",
    "        image = image\n",
    "    )\n",
    "with open('img/IMG_2860.JPG', 'rb') as image:\n",
    "    keisuke_face_3 = face_client.person_group_person.add_face_from_stream(\n",
    "        person_group_id = group_keisuke.person_group_id,\n",
    "        person_id = keisuke.person_id,\n",
    "        image = image\n",
    "    )\n",
    "with open('img/IMG_2861.JPG', 'rb') as image:\n",
    "    keisuke_face_4 = face_client.person_group_person.add_face_from_stream(\n",
    "        person_group_id = group_keisuke.person_group_id,\n",
    "        person_id = keisuke.person_id,\n",
    "        image = image\n",
    "    )\n",
    "\n",
    "# ケイスケPersonに登録した画像情報\n",
    "print(keisuke_face_1)\n",
    "print(keisuke_face_2)\n",
    "print(keisuke_face_3)\n",
    "print(keisuke_face_4)"
   ]
  },
  {
   "cell_type": "code",
   "execution_count": null,
   "id": "2938e0c6-efa4-46ac-9b11-2e14c8d144df",
   "metadata": {},
   "outputs": [],
   "source": [
    "# PersonGroupPerson get で最新のPerson情報を取得する\n",
    "# 上記で登録した画像idが含まれているはず\n",
    "keisuke = face_client.person_group_person.get(\n",
    "        person_group_id = group_keisuke.person_group_id,\n",
    "        person_id = keisuke.person_id\n",
    "    )\n",
    "print(keisuke)\n",
    "\n",
    "# Peasonの削除\n",
    "# keisuke = face_client.person_group_person.delete(\n",
    "#         person_group_id = group_keisuke.person_group_id,\n",
    "#         person_id = keisuke.person_id\n",
    "#     )\n",
    "# print(keisuke)"
   ]
  },
  {
   "cell_type": "code",
   "execution_count": null,
   "id": "2938e0c6-efa4-46ac-9b11-2e14c8d144df",
   "metadata": {},
   "outputs": [],
   "source": [
    "# 確認\n",
    "group_keisuke = face_client.person_group.get(\n",
    "    person_group_id,\n",
    "    name = \"keisuke group\"\n",
    ")\n",
    "print(group_keisuke)\n",
    "print(keisuke)"
   ]
  },
  {
   "cell_type": "code",
   "execution_count": 57,
   "id": "088a4662",
   "metadata": {},
   "outputs": [
    {
     "name": "stdout",
     "output_type": "stream",
     "text": [
      "5f6c6812-b64d-49ec-99ee-ce621c9b885f\n",
      "{'additional_properties': {}, 'age': 33.0, 'gender': <Gender.male: 'male'>, 'smile': 0.997, 'facial_hair': None, 'glasses': None, 'head_pose': None, 'emotion': <azure.cognitiveservices.vision.face.models._models_py3.Emotion object at 0x7f9a3d2afee0>, 'hair': None, 'makeup': None, 'occlusion': None, 'accessories': None, 'blur': None, 'exposure': None, 'noise': None, 'mask': None, 'quality_for_recognition': None}\n",
      "{'additional_properties': {}, 'anger': 0.0, 'contempt': 0.0, 'disgust': 0.0, 'fear': 0.0, 'happiness': 0.997, 'neutral': 0.003, 'sadness': 0.0, 'surprise': 0.0}\n"
     ]
    }
   ],
   "source": [
    "# 画像から表情、感情を判別 ケイスケではない写真\n",
    "with open('img/IMG_2854.JPG', 'rb') as image:\n",
    "    detected_faces = face_client.face.detect_with_stream(\n",
    "        image, \n",
    "        return_face_attributes = ['age','gender','smile','emotion']\n",
    "    )\n",
    "\n",
    "# ケイスケの写真も読み込み\n",
    "with open('img/IMG_2860.JPG', 'rb') as image:\n",
    "    detected_faces_2 = face_client.face.detect_with_stream(\n",
    "        image, \n",
    "        return_face_attributes = ['age','gender','smile','emotion']\n",
    "    )\n",
    "\n",
    "print(detected_faces[0].face_id)\n",
    "print(detected_faces[0].face_attributes)\n",
    "print(detected_faces[0].face_attributes.emotion)"
   ]
  },
  {
   "cell_type": "code",
   "execution_count": null,
   "id": "b57e4246",
   "metadata": {},
   "outputs": [],
   "source": [
    "# personとfaceの比較\n",
    "verified = face_client.face.verify_face_to_person(\n",
    "    face_id = detected_faces[0].face_id,\n",
    "    person_group_id = group_keisuke.person_group_id,\n",
    "    person_id = keisuke.person_id\n",
    ")\n",
    "print(verified)\n",
    "\n",
    "verified2 = face_client.face.verify_face_to_person(\n",
    "    face_id = detected_faces_2[0].face_id,\n",
    "    person_group_id = group_keisuke.person_group_id,\n",
    "    person_id = keisuke.person_id\n",
    ")\n",
    "print(verified2)\n",
    "\n",
    "if verified.confidence > 0.7:\n",
    "    print(\"完全に本人\")\n",
    "elif verified.confidence > 0.5:\n",
    "    print(\"ほぼ本人\")\n",
    "else:\n",
    "    print(\"別人\")"
   ]
  },
  {
   "cell_type": "code",
   "execution_count": 66,
   "id": "585b7da6",
   "metadata": {},
   "outputs": [
    {
     "name": "stdout",
     "output_type": "stream",
     "text": [
      "笑顔(score:99.70)\n",
      "怒り(score:0.0)\n",
      "侮蔑(score:0.0)\n",
      "嫌悪(score:0.0)\n",
      "恐怖(score:0.0)\n",
      "幸福(score:0.997)\n",
      "自然(score:0.003)\n",
      "悲哀(score:0.0)\n",
      "驚き(score:0.0)\n"
     ]
    }
   ],
   "source": [
    "# 感情・表情を抽出\n",
    "smile = format(detected_faces[0].face_attributes.smile * 100, '.1f')\n",
    "anger = detected_faces[0].face_attributes.emotion.anger\n",
    "contempt = detected_faces[0].face_attributes.emotion.contempt\n",
    "disgust = detected_faces[0].face_attributes.emotion.disgust\n",
    "fear = detected_faces[0].face_attributes.emotion.fear\n",
    "happiness = detected_faces[0].face_attributes.emotion.happiness\n",
    "neutral = detected_faces[0].face_attributes.emotion.neutral\n",
    "sadness = detected_faces[0].face_attributes.emotion.sadness\n",
    "surprise = detected_faces[0].face_attributes.emotion.surprise\n",
    "\n",
    "print('笑顔(score:{0})\\n怒り(score:{1})\\n侮蔑(score:{2})\\n嫌悪(score:{3})\\n恐怖(score:{4})\\n幸福(score:{5})\\n自然(score:{6})\\n悲哀(score:{7})\\n驚き(score:{8})' \\\n",
    ".format(smile,anger,contempt,disgust,fear,happiness,neutral,sadness,surprise))"
   ]
  },
  {
   "cell_type": "code",
   "execution_count": 63,
   "id": "6b9ad9d5",
   "metadata": {},
   "outputs": [
    {
     "name": "stdout",
     "output_type": "stream",
     "text": [
      "HELLO\n",
      "World\n",
      "HELLOn\\World\n"
     ]
    }
   ],
   "source": [
    "a = \"HELLO\"\n",
    "print('{0}\\nWorld'.format(a))\n",
    "# '{0}\\n顔写真を送って!'\n",
    "print('HELLOn\\World')"
   ]
  }
 ],
 "metadata": {
  "interpreter": {
   "hash": "949777d72b0d2535278d3dc13498b2535136f6dfe0678499012e853ee9abcab1"
  },
  "kernelspec": {
   "display_name": "Python 3 (ipykernel)",
   "language": "python",
   "name": "python3"
  },
  "language_info": {
   "codemirror_mode": {
    "name": "ipython",
    "version": 3
   },
   "file_extension": ".py",
   "mimetype": "text/x-python",
   "name": "python",
   "nbconvert_exporter": "python",
   "pygments_lexer": "ipython3",
   "version": "3.10.5"
  },
  "toc-showcode": true
 },
 "nbformat": 4,
 "nbformat_minor": 5
}
