{
 "cells": [
  {
   "cell_type": "code",
   "execution_count": 7,
   "id": "f1e853c2-f4e0-46cc-aee0-150e269df150",
   "metadata": {},
   "outputs": [],
   "source": [
    "from azure.cognitiveservices.vision.face import FaceClient\n",
    "from msrest.authentication import CognitiveServicesCredentials"
   ]
  },
  {
   "cell_type": "code",
   "execution_count": 8,
   "id": "bd4a500d-661f-4061-ba06-4f08cb02d92e",
   "metadata": {},
   "outputs": [],
   "source": [
    "KEY = 'b9a1d13e1f5448dba7d8b5999a9aa975'\n",
    "ENDPOINT = 'https://line-face-recognition.cognitiveservices.azure.com'\n",
    "# FaceAPIクライアントのインスタンス作成\n",
    "face_client = FaceClient(ENDPOINT, CognitiveServicesCredentials(KEY))"
   ]
  },
  {
   "cell_type": "code",
   "execution_count": 9,
   "id": "96812d5c-82c0-4b1b-9cd0-91a9338c8b9b",
   "metadata": {},
   "outputs": [],
   "source": [
    "url = 'https://techpit-market-prod.s3.amazonaws.com/uploads/part_attachment/file/286/1ace5e42-2b60-4d22-9e9a-d9cc848177bb.jpg'"
   ]
  },
  {
   "cell_type": "code",
   "execution_count": null,
   "id": "18b178b2-1799-449d-9e95-26ef40c27cb7",
   "metadata": {
    "tags": []
   },
   "outputs": [],
   "source": [
    "# URL指定によって顔検出\n",
    "detected_faces = face_client.face.detect_with_url(\n",
    "    url = url, \n",
    "    return_face_attributes = ['age','gender','smile','glasses','emotion']\n",
    ")\n",
    "print(detected_faces)"
   ]
  },
  {
   "cell_type": "code",
   "execution_count": 6,
   "id": "a6531a6f-b466-4da5-bd30-d6fa28605792",
   "metadata": {},
   "outputs": [
    {
     "ename": "FileNotFoundError",
     "evalue": "[Errno 2] No such file or directory: 'face-image/IMG_2854.JPG'",
     "output_type": "error",
     "traceback": [
      "\u001b[0;31m---------------------------------------------------------------------------\u001b[0m",
      "\u001b[0;31mFileNotFoundError\u001b[0m                         Traceback (most recent call last)",
      "\u001b[1;32m/home/jovyan/plactice/lineFaceApp/face2.ipynb Cell 5'\u001b[0m in \u001b[0;36m<cell line: 2>\u001b[0;34m()\u001b[0m\n\u001b[1;32m      <a href='vscode-notebook-cell://attached-container%2B7b22636f6e7461696e65724e616d65223a222f6a7570797465722d70726f6a6563745f6a7570797465725f31227d/home/jovyan/plactice/lineFaceApp/face2.ipynb#ch0000004vscode-remote?line=0'>1</a>\u001b[0m \u001b[39m# 読み込んだ画像を送信して顔検出\u001b[39;00m\n\u001b[0;32m----> <a href='vscode-notebook-cell://attached-container%2B7b22636f6e7461696e65724e616d65223a222f6a7570797465722d70726f6a6563745f6a7570797465725f31227d/home/jovyan/plactice/lineFaceApp/face2.ipynb#ch0000004vscode-remote?line=1'>2</a>\u001b[0m \u001b[39mwith\u001b[39;00m \u001b[39mopen\u001b[39;49m(\u001b[39m'\u001b[39;49m\u001b[39mface-image/IMG_2854.JPG\u001b[39;49m\u001b[39m'\u001b[39;49m, \u001b[39m'\u001b[39;49m\u001b[39mrb\u001b[39;49m\u001b[39m'\u001b[39;49m) \u001b[39mas\u001b[39;00m image:\n\u001b[1;32m      <a href='vscode-notebook-cell://attached-container%2B7b22636f6e7461696e65724e616d65223a222f6a7570797465722d70726f6a6563745f6a7570797465725f31227d/home/jovyan/plactice/lineFaceApp/face2.ipynb#ch0000004vscode-remote?line=2'>3</a>\u001b[0m     detected_faces_2 \u001b[39m=\u001b[39m face_client\u001b[39m.\u001b[39mface\u001b[39m.\u001b[39mdetect_with_stream(\n\u001b[1;32m      <a href='vscode-notebook-cell://attached-container%2B7b22636f6e7461696e65724e616d65223a222f6a7570797465722d70726f6a6563745f6a7570797465725f31227d/home/jovyan/plactice/lineFaceApp/face2.ipynb#ch0000004vscode-remote?line=3'>4</a>\u001b[0m         image, \n\u001b[1;32m      <a href='vscode-notebook-cell://attached-container%2B7b22636f6e7461696e65724e616d65223a222f6a7570797465722d70726f6a6563745f6a7570797465725f31227d/home/jovyan/plactice/lineFaceApp/face2.ipynb#ch0000004vscode-remote?line=4'>5</a>\u001b[0m         return_face_attributes \u001b[39m=\u001b[39m [\u001b[39m'\u001b[39m\u001b[39mage\u001b[39m\u001b[39m'\u001b[39m,\u001b[39m'\u001b[39m\u001b[39mgender\u001b[39m\u001b[39m'\u001b[39m,\u001b[39m'\u001b[39m\u001b[39msmile\u001b[39m\u001b[39m'\u001b[39m,\u001b[39m'\u001b[39m\u001b[39mglasses\u001b[39m\u001b[39m'\u001b[39m,\u001b[39m'\u001b[39m\u001b[39memotion\u001b[39m\u001b[39m'\u001b[39m]\n\u001b[1;32m      <a href='vscode-notebook-cell://attached-container%2B7b22636f6e7461696e65724e616d65223a222f6a7570797465722d70726f6a6563745f6a7570797465725f31227d/home/jovyan/plactice/lineFaceApp/face2.ipynb#ch0000004vscode-remote?line=5'>6</a>\u001b[0m     )\n\u001b[1;32m      <a href='vscode-notebook-cell://attached-container%2B7b22636f6e7461696e65724e616d65223a222f6a7570797465722d70726f6a6563745f6a7570797465725f31227d/home/jovyan/plactice/lineFaceApp/face2.ipynb#ch0000004vscode-remote?line=6'>7</a>\u001b[0m \u001b[39mprint\u001b[39m(detected_faces_2)\n",
      "\u001b[0;31mFileNotFoundError\u001b[0m: [Errno 2] No such file or directory: 'face-image/IMG_2854.JPG'"
     ]
    }
   ],
   "source": [
    "# 読み込んだ画像を送信して顔検出\n",
    "with open('face-image/IMG_2854.JPG', 'rb') as image:\n",
    "    detected_faces_2 = face_client.face.detect_with_stream(\n",
    "        image, \n",
    "        return_face_attributes = ['age','gender','smile','glasses','emotion']\n",
    "    )\n",
    "print(detected_faces_2)"
   ]
  },
  {
   "cell_type": "code",
   "execution_count": null,
   "id": "c352cc70-e8bf-412e-835a-2b4059415543",
   "metadata": {},
   "outputs": [
    {
     "name": "stdout",
     "output_type": "stream",
     "text": [
      "{'additional_properties': {}, 'is_identical': False, 'confidence': 0.17877}\n"
     ]
    }
   ],
   "source": [
    "# 2つの顔検出結果のFaceIdを取得する\n",
    "face_id_1 = detected_faces[0].face_id\n",
    "face_id_2 = detected_faces_2[0].face_id\n",
    "\n",
    "# 2つの顔が同じ人物かどうか判定する\n",
    "verified = face_client.face.verify_face_to_face(face_id_1, face_id_2)\n",
    "print(verified)"
   ]
  },
  {
   "cell_type": "code",
   "execution_count": null,
   "id": "db98b0d3-4e28-40b7-a9ae-46540cb2af78",
   "metadata": {},
   "outputs": [],
   "source": [
    "# Person GroupのIDを指定\n",
    "person_group_id = 'moviestars'"
   ]
  },
  {
   "cell_type": "code",
   "execution_count": null,
   "id": "74013cd6-8b84-4045-8a73-dc268ec99713",
   "metadata": {},
   "outputs": [],
   "source": [
    "# moviestarsというグループを作成する\n",
    "# face_client.person_group.create(\n",
    "#     person_group_id,\n",
    "#     name='Person Group for LINE Bot'\n",
    "# )"
   ]
  },
  {
   "cell_type": "code",
   "execution_count": null,
   "id": "1c81c1a3-595e-4aca-ad65-983601bf60e8",
   "metadata": {},
   "outputs": [
    {
     "name": "stdout",
     "output_type": "stream",
     "text": [
      "{'additional_properties': {}, 'name': 'Person Group for LINE Bot', 'user_data': None, 'recognition_model': None, 'person_group_id': 'moviestars'}\n"
     ]
    }
   ],
   "source": [
    "# person groupを確認\n",
    "moviestars = face_client.person_group.get(person_group_id)\n",
    "print(moviestars)\n"
   ]
  },
  {
   "cell_type": "code",
   "execution_count": null,
   "id": "45708b9f-bf7c-43bc-a675-a20624df61f9",
   "metadata": {},
   "outputs": [
    {
     "name": "stdout",
     "output_type": "stream",
     "text": [
      "{'additional_properties': {}, 'name': 'Person Group for LINE Bot', 'user_data': None, 'recognition_model': None, 'person_group_id': 'moviestars'}\n"
     ]
    }
   ],
   "source": [
    "# person groupを確認\n",
    "moviestars = face_client.person_group.get(person_group_id)\n",
    "print(moviestars)"
   ]
  },
  {
   "cell_type": "code",
   "execution_count": null,
   "id": "29159132-8ceb-4ade-aaf4-e31d0a273f7e",
   "metadata": {},
   "outputs": [],
   "source": [
    "# オードリーヘップバーンの名前を登録\n",
    "audrey_name = 'Audrey Hepburn'\n"
   ]
  },
  {
   "cell_type": "code",
   "execution_count": null,
   "id": "7698dc64-3364-430f-931d-99a4644fbaa5",
   "metadata": {},
   "outputs": [
    {
     "name": "stdout",
     "output_type": "stream",
     "text": [
      "{'additional_properties': {}, 'name': None, 'user_data': None, 'person_id': '6bf7d771-acab-45d2-afee-ccfbc6a498e7', 'persisted_face_ids': None}\n"
     ]
    }
   ],
   "source": [
    "# Personを登録\n",
    "audrey = face_client.person_group_person.create(\n",
    "    person_group_id = moviestars.person_group_id, # PersonGroupのIDを指定\n",
    "    name = audrey_name # 登録するPersonの名前を指定\n",
    ")\n",
    "print(audrey)"
   ]
  },
  {
   "cell_type": "code",
   "execution_count": null,
   "id": "7e78d168-0936-4194-9a90-cd8eefd4cd83",
   "metadata": {},
   "outputs": [
    {
     "name": "stdout",
     "output_type": "stream",
     "text": [
      "{'additional_properties': {}, 'persisted_face_id': 'e6acaa6b-b1e2-45e9-812f-74941643b08c', 'user_data': None}\n"
     ]
    }
   ],
   "source": [
    "# url指定でオードリーヘップバーンの顔写真をPersonに紐づける\n",
    "audery_face_1 = face_client.person_group_person.add_face_from_url(\n",
    "    person_group_id = moviestars.person_group_id,\n",
    "    person_id = audrey.person_id,\n",
    "    url = url\n",
    ")\n",
    "print(audery_face_1)"
   ]
  },
  {
   "cell_type": "code",
   "execution_count": null,
   "id": "01d552b1-8c09-44b1-b412-07a1c2cc30d3",
   "metadata": {},
   "outputs": [
    {
     "name": "stdout",
     "output_type": "stream",
     "text": [
      "{'additional_properties': {}, 'persisted_face_id': '9f8ef65b-0563-4ff1-845a-1a32ba314cc1', 'user_data': None}\n"
     ]
    }
   ],
   "source": [
    "# 画像送信でオードリーヘップバーンの顔写真をPersonに紐づける\n",
    "with open('face-image/odr.png', 'rb') as image:\n",
    "    audery_face_2 = face_client.person_group_person.add_face_from_stream(\n",
    "        person_group_id = moviestars.person_group_id,\n",
    "        person_id = audrey.person_id,\n",
    "        image = image\n",
    "    )\n",
    "print(audery_face_2)"
   ]
  },
  {
   "cell_type": "code",
   "execution_count": null,
   "id": "caaee481-65ec-4923-af62-91cdbe89b29b",
   "metadata": {},
   "outputs": [
    {
     "name": "stdout",
     "output_type": "stream",
     "text": [
      "{'additional_properties': {}, 'name': None, 'user_data': None, 'person_id': '6bf7d771-acab-45d2-afee-ccfbc6a498e7', 'persisted_face_ids': None}\n"
     ]
    }
   ],
   "source": [
    "print(audrey)"
   ]
  },
  {
   "cell_type": "code",
   "execution_count": null,
   "id": "2938e0c6-efa4-46ac-9b11-2e14c8d144df",
   "metadata": {},
   "outputs": [
    {
     "name": "stdout",
     "output_type": "stream",
     "text": [
      "{'additional_properties': {}, 'name': 'Audrey Hepburn', 'user_data': None, 'person_id': '6bf7d771-acab-45d2-afee-ccfbc6a498e7', 'persisted_face_ids': ['9f8ef65b-0563-4ff1-845a-1a32ba314cc1', 'e6acaa6b-b1e2-45e9-812f-74941643b08c']}\n"
     ]
    }
   ],
   "source": [
    "# PersonGroupPerson get で最新のPerson情報を取得する\n",
    "audrey = face_client.person_group_person.get(\n",
    "        person_group_id = moviestars.person_group_id,\n",
    "        person_id = audrey.person_id\n",
    "    )\n",
    "print(audrey)"
   ]
  },
  {
   "cell_type": "code",
   "execution_count": null,
   "id": "f8ff9a21-e29d-4f54-8f4a-87e0d2a527f2",
   "metadata": {},
   "outputs": [],
   "source": [
    "# 検証用の画像の取得\n",
    "url = 'https://techpit-market-prod.s3.amazonaws.com/uploads/part_attachment/file/298/51500494-51a6-4513-bbf0-fe4f3a84e0b8.jpg'"
   ]
  },
  {
   "cell_type": "code",
   "execution_count": null,
   "id": "d2033ae7-3b72-420d-ba99-e549b1af178d",
   "metadata": {},
   "outputs": [
    {
     "name": "stdout",
     "output_type": "stream",
     "text": [
      "{'additional_properties': {}, 'face_id': '34eadfce-567a-487c-abe8-b9c658c2539d', 'recognition_model': None, 'face_rectangle': <azure.cognitiveservices.vision.face.models._models_py3.FaceRectangle object at 0x7fc7d0d02dd0>, 'face_landmarks': None, 'face_attributes': None}\n"
     ]
    }
   ],
   "source": [
    "# 検証用の顔検出\n",
    "detected_faces_3 = face_client.face.detect_with_url(url)\n",
    "print(detected_faces_3[0])"
   ]
  },
  {
   "cell_type": "code",
   "execution_count": null,
   "id": "754b17d8",
   "metadata": {},
   "outputs": [
    {
     "name": "stdout",
     "output_type": "stream",
     "text": [
      "{'additional_properties': {}, 'is_identical': True, 'confidence': 0.70333}\n"
     ]
    }
   ],
   "source": [
    "# personとfaceの比較\n",
    "verified = face_client.face.verify_face_to_person(\n",
    "    face_id = detected_faces_3[0].face_id,\n",
    "    person_group_id = moviestars.person_group_id,\n",
    "    person_id = audrey.person_id\n",
    ")\n",
    "print(verified)"
   ]
  },
  {
   "cell_type": "code",
   "execution_count": null,
   "id": "78b7273f",
   "metadata": {},
   "outputs": [],
   "source": []
  },
  {
   "cell_type": "code",
   "execution_count": null,
   "id": "f206736d-f734-4163-9617-787af0b836aa",
   "metadata": {},
   "outputs": [],
   "source": []
  }
 ],
 "metadata": {
  "interpreter": {
   "hash": "949777d72b0d2535278d3dc13498b2535136f6dfe0678499012e853ee9abcab1"
  },
  "kernelspec": {
   "display_name": "Python 3 (ipykernel)",
   "language": "python",
   "name": "python3"
  },
  "language_info": {
   "codemirror_mode": {
    "name": "ipython",
    "version": 3
   },
   "file_extension": ".py",
   "mimetype": "text/x-python",
   "name": "python",
   "nbconvert_exporter": "python",
   "pygments_lexer": "ipython3",
   "version": "3.10.4"
  },
  "toc-showcode": true
 },
 "nbformat": 4,
 "nbformat_minor": 5
}
